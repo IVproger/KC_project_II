{
 "cells": [
  {
   "cell_type": "code",
   "execution_count": 51,
   "metadata": {},
   "outputs": [],
   "source": [
    "import pandas as pd"
   ]
  },
  {
   "cell_type": "code",
   "execution_count": 52,
   "metadata": {},
   "outputs": [],
   "source": [
    "df_balanced = pd.read_csv('balanced_df.csv')"
   ]
  },
  {
   "cell_type": "code",
   "execution_count": 53,
   "metadata": {},
   "outputs": [],
   "source": [
    "df_balanced['timestamp'] = pd.to_datetime(df_balanced['timestamp'])"
   ]
  },
  {
   "cell_type": "code",
   "execution_count": 54,
   "metadata": {},
   "outputs": [],
   "source": [
    "df_balanced = df_balanced.sort_values(by='timestamp')"
   ]
  },
  {
   "cell_type": "code",
   "execution_count": 55,
   "metadata": {},
   "outputs": [],
   "source": [
    "X = df_balanced.drop(['timestamp','Unnamed: 0','target'], axis=1)\n",
    "y = df_balanced['target']"
   ]
  },
  {
   "cell_type": "code",
   "execution_count": 56,
   "metadata": {},
   "outputs": [],
   "source": [
    "from sklearn.model_selection import train_test_split\n",
    "\n",
    "X_train, X_test, y_train, y_test = train_test_split(X, y, random_state=42, test_size=0.2)"
   ]
  },
  {
   "cell_type": "code",
   "execution_count": 57,
   "metadata": {},
   "outputs": [],
   "source": [
    "from sklearn.compose import ColumnTransformer\n",
    "from category_encoders.one_hot import OneHotEncoder\n",
    "from sklearn.feature_extraction.text import TfidfVectorizer"
   ]
  },
  {
   "cell_type": "code",
   "execution_count": 58,
   "metadata": {},
   "outputs": [],
   "source": [
    "text_column = 'text'\n",
    "one_hot_colum = 'topic'\n",
    "categorical_preprocessor = ColumnTransformer(\n",
    "    transformers=[\n",
    "        ('onehot', OneHotEncoder(), one_hot_colum),\n",
    "        ('tfidf', TfidfVectorizer(), text_column)\n",
    "    ],\n",
    "    remainder='passthrough'\n",
    ")"
   ]
  },
  {
   "cell_type": "code",
   "execution_count": 59,
   "metadata": {},
   "outputs": [],
   "source": [
    "from sklearn.pipeline import Pipeline\n",
    "from catboost import CatBoostClassifier"
   ]
  },
  {
   "cell_type": "code",
   "execution_count": 60,
   "metadata": {},
   "outputs": [],
   "source": [
    "# Create a pipeline that first applies the categorical preprocessor and then the scaler\n",
    "pipe = Pipeline(steps=[\n",
    "    ('categorical', categorical_preprocessor),\n",
    "    ('model', CatBoostClassifier(eta=0.01,max_depth=8,n_estimators=200))\n",
    "])"
   ]
  },
  {
   "cell_type": "code",
   "execution_count": 61,
   "metadata": {},
   "outputs": [
    {
     "name": "stdout",
     "output_type": "stream",
     "text": [
      "0:\tlearn: 0.6929324\ttotal: 7.76s\tremaining: 25m 45s\n",
      "1:\tlearn: 0.6927059\ttotal: 18.4s\tremaining: 30m 21s\n",
      "2:\tlearn: 0.6925118\ttotal: 25.1s\tremaining: 27m 28s\n",
      "3:\tlearn: 0.6922733\ttotal: 34.6s\tremaining: 28m 17s\n",
      "4:\tlearn: 0.6920321\ttotal: 42s\tremaining: 27m 19s\n",
      "5:\tlearn: 0.6918769\ttotal: 49.6s\tremaining: 26m 43s\n",
      "6:\tlearn: 0.6916710\ttotal: 57.7s\tremaining: 26m 31s\n",
      "7:\tlearn: 0.6914653\ttotal: 1m 5s\tremaining: 26m 10s\n",
      "8:\tlearn: 0.6912686\ttotal: 1m 12s\tremaining: 25m 29s\n",
      "9:\tlearn: 0.6911185\ttotal: 1m 17s\tremaining: 24m 25s\n",
      "10:\tlearn: 0.6909036\ttotal: 1m 23s\tremaining: 23m 52s\n",
      "11:\tlearn: 0.6907484\ttotal: 1m 32s\tremaining: 24m 16s\n",
      "12:\tlearn: 0.6905491\ttotal: 1m 39s\tremaining: 23m 45s\n",
      "13:\tlearn: 0.6903852\ttotal: 1m 45s\tremaining: 23m 19s\n",
      "14:\tlearn: 0.6902019\ttotal: 1m 51s\tremaining: 22m 53s\n",
      "15:\tlearn: 0.6900392\ttotal: 2m 4s\tremaining: 23m 48s\n",
      "16:\tlearn: 0.6898805\ttotal: 2m 13s\tremaining: 23m 56s\n",
      "17:\tlearn: 0.6897234\ttotal: 2m 19s\tremaining: 23m 34s\n",
      "18:\tlearn: 0.6895610\ttotal: 2m 25s\tremaining: 23m 7s\n",
      "19:\tlearn: 0.6894061\ttotal: 2m 31s\tremaining: 22m 40s\n",
      "20:\tlearn: 0.6892687\ttotal: 2m 36s\tremaining: 22m 16s\n",
      "21:\tlearn: 0.6891133\ttotal: 2m 42s\tremaining: 21m 58s\n",
      "22:\tlearn: 0.6889737\ttotal: 2m 49s\tremaining: 21m 42s\n",
      "23:\tlearn: 0.6888309\ttotal: 2m 55s\tremaining: 21m 25s\n",
      "24:\tlearn: 0.6886027\ttotal: 3m 2s\tremaining: 21m 14s\n",
      "25:\tlearn: 0.6884784\ttotal: 3m 8s\tremaining: 21m\n",
      "26:\tlearn: 0.6883305\ttotal: 3m 15s\tremaining: 20m 52s\n",
      "27:\tlearn: 0.6882178\ttotal: 3m 23s\tremaining: 20m 52s\n",
      "28:\tlearn: 0.6880756\ttotal: 3m 30s\tremaining: 20m 38s\n",
      "29:\tlearn: 0.6879626\ttotal: 3m 37s\tremaining: 20m 30s\n",
      "30:\tlearn: 0.6878206\ttotal: 3m 43s\tremaining: 20m 15s\n",
      "31:\tlearn: 0.6877155\ttotal: 3m 49s\tremaining: 20m 2s\n",
      "32:\tlearn: 0.6874537\ttotal: 3m 55s\tremaining: 19m 51s\n",
      "33:\tlearn: 0.6873277\ttotal: 4m 1s\tremaining: 19m 36s\n",
      "34:\tlearn: 0.6872251\ttotal: 4m 6s\tremaining: 19m 22s\n",
      "35:\tlearn: 0.6871064\ttotal: 4m 12s\tremaining: 19m 8s\n",
      "36:\tlearn: 0.6869524\ttotal: 4m 18s\tremaining: 18m 59s\n",
      "37:\tlearn: 0.6868337\ttotal: 4m 24s\tremaining: 18m 49s\n",
      "38:\tlearn: 0.6867301\ttotal: 4m 30s\tremaining: 18m 38s\n",
      "39:\tlearn: 0.6866255\ttotal: 4m 36s\tremaining: 18m 27s\n",
      "40:\tlearn: 0.6865196\ttotal: 4m 43s\tremaining: 18m 17s\n",
      "41:\tlearn: 0.6864147\ttotal: 4m 49s\tremaining: 18m 9s\n",
      "42:\tlearn: 0.6863149\ttotal: 4m 55s\tremaining: 18m\n",
      "43:\tlearn: 0.6862173\ttotal: 5m 1s\tremaining: 17m 50s\n",
      "44:\tlearn: 0.6861096\ttotal: 5m 7s\tremaining: 17m 39s\n",
      "45:\tlearn: 0.6860190\ttotal: 5m 12s\tremaining: 17m 27s\n",
      "46:\tlearn: 0.6858749\ttotal: 5m 18s\tremaining: 17m 17s\n",
      "47:\tlearn: 0.6857871\ttotal: 5m 24s\tremaining: 17m 6s\n",
      "48:\tlearn: 0.6856987\ttotal: 5m 29s\tremaining: 16m 54s\n",
      "49:\tlearn: 0.6856130\ttotal: 5m 35s\tremaining: 16m 46s\n",
      "50:\tlearn: 0.6853844\ttotal: 5m 41s\tremaining: 16m 38s\n",
      "51:\tlearn: 0.6853068\ttotal: 5m 47s\tremaining: 16m 27s\n",
      "52:\tlearn: 0.6852225\ttotal: 5m 52s\tremaining: 16m 18s\n",
      "53:\tlearn: 0.6851467\ttotal: 6m\tremaining: 16m 13s\n",
      "54:\tlearn: 0.6850669\ttotal: 6m 6s\tremaining: 16m 5s\n",
      "55:\tlearn: 0.6849908\ttotal: 6m 11s\tremaining: 15m 55s\n",
      "56:\tlearn: 0.6849236\ttotal: 6m 17s\tremaining: 15m 46s\n",
      "57:\tlearn: 0.6848469\ttotal: 6m 22s\tremaining: 15m 36s\n",
      "58:\tlearn: 0.6847491\ttotal: 6m 29s\tremaining: 15m 30s\n",
      "59:\tlearn: 0.6845432\ttotal: 6m 35s\tremaining: 15m 23s\n",
      "60:\tlearn: 0.6844425\ttotal: 6m 41s\tremaining: 15m 14s\n",
      "61:\tlearn: 0.6843675\ttotal: 6m 46s\tremaining: 15m 5s\n",
      "62:\tlearn: 0.6842981\ttotal: 6m 52s\tremaining: 14m 57s\n",
      "63:\tlearn: 0.6842292\ttotal: 6m 58s\tremaining: 14m 49s\n",
      "64:\tlearn: 0.6841649\ttotal: 7m 7s\tremaining: 14m 47s\n",
      "65:\tlearn: 0.6841006\ttotal: 7m 15s\tremaining: 14m 43s\n",
      "66:\tlearn: 0.6840296\ttotal: 7m 22s\tremaining: 14m 37s\n",
      "67:\tlearn: 0.6838872\ttotal: 7m 28s\tremaining: 14m 31s\n",
      "68:\tlearn: 0.6838343\ttotal: 7m 35s\tremaining: 14m 23s\n",
      "69:\tlearn: 0.6837702\ttotal: 7m 40s\tremaining: 14m 15s\n",
      "70:\tlearn: 0.6837096\ttotal: 7m 46s\tremaining: 14m 7s\n",
      "71:\tlearn: 0.6836539\ttotal: 7m 51s\tremaining: 13m 58s\n",
      "72:\tlearn: 0.6835241\ttotal: 7m 57s\tremaining: 13m 51s\n",
      "73:\tlearn: 0.6834687\ttotal: 8m 3s\tremaining: 13m 42s\n",
      "74:\tlearn: 0.6833727\ttotal: 8m 8s\tremaining: 13m 34s\n",
      "75:\tlearn: 0.6833171\ttotal: 8m 14s\tremaining: 13m 27s\n",
      "76:\tlearn: 0.6832653\ttotal: 8m 20s\tremaining: 13m 19s\n",
      "77:\tlearn: 0.6832212\ttotal: 8m 25s\tremaining: 13m 10s\n",
      "78:\tlearn: 0.6831627\ttotal: 8m 31s\tremaining: 13m 3s\n",
      "79:\tlearn: 0.6831135\ttotal: 8m 38s\tremaining: 12m 57s\n",
      "80:\tlearn: 0.6830658\ttotal: 8m 44s\tremaining: 12m 49s\n",
      "81:\tlearn: 0.6830163\ttotal: 8m 49s\tremaining: 12m 41s\n",
      "82:\tlearn: 0.6829833\ttotal: 8m 54s\tremaining: 12m 33s\n",
      "83:\tlearn: 0.6829485\ttotal: 8m 59s\tremaining: 12m 25s\n",
      "84:\tlearn: 0.6828915\ttotal: 9m 6s\tremaining: 12m 18s\n",
      "85:\tlearn: 0.6827735\ttotal: 9m 12s\tremaining: 12m 11s\n",
      "86:\tlearn: 0.6827326\ttotal: 9m 17s\tremaining: 12m 3s\n",
      "87:\tlearn: 0.6826195\ttotal: 9m 24s\tremaining: 11m 57s\n",
      "88:\tlearn: 0.6825783\ttotal: 9m 29s\tremaining: 11m 50s\n",
      "89:\tlearn: 0.6825381\ttotal: 9m 34s\tremaining: 11m 42s\n",
      "90:\tlearn: 0.6825009\ttotal: 9m 41s\tremaining: 11m 36s\n",
      "91:\tlearn: 0.6824572\ttotal: 9m 47s\tremaining: 11m 29s\n",
      "92:\tlearn: 0.6823445\ttotal: 9m 53s\tremaining: 11m 23s\n",
      "93:\tlearn: 0.6821727\ttotal: 9m 59s\tremaining: 11m 16s\n",
      "94:\tlearn: 0.6821202\ttotal: 10m 5s\tremaining: 11m 9s\n",
      "95:\tlearn: 0.6820163\ttotal: 10m 12s\tremaining: 11m 3s\n",
      "96:\tlearn: 0.6818511\ttotal: 10m 17s\tremaining: 10m 56s\n",
      "97:\tlearn: 0.6818108\ttotal: 10m 24s\tremaining: 10m 49s\n",
      "98:\tlearn: 0.6817772\ttotal: 10m 30s\tremaining: 10m 42s\n",
      "99:\tlearn: 0.6816270\ttotal: 10m 36s\tremaining: 10m 36s\n",
      "100:\tlearn: 0.6815853\ttotal: 10m 42s\tremaining: 10m 29s\n",
      "101:\tlearn: 0.6814344\ttotal: 10m 48s\tremaining: 10m 23s\n",
      "102:\tlearn: 0.6814001\ttotal: 10m 53s\tremaining: 10m 15s\n",
      "103:\tlearn: 0.6813055\ttotal: 11m\tremaining: 10m 9s\n",
      "104:\tlearn: 0.6812674\ttotal: 11m 6s\tremaining: 10m 2s\n",
      "105:\tlearn: 0.6811201\ttotal: 11m 11s\tremaining: 9m 55s\n",
      "106:\tlearn: 0.6810665\ttotal: 11m 17s\tremaining: 9m 49s\n",
      "107:\tlearn: 0.6809177\ttotal: 11m 22s\tremaining: 9m 41s\n",
      "108:\tlearn: 0.6808860\ttotal: 11m 28s\tremaining: 9m 35s\n",
      "109:\tlearn: 0.6808479\ttotal: 11m 34s\tremaining: 9m 28s\n",
      "110:\tlearn: 0.6807058\ttotal: 11m 40s\tremaining: 9m 21s\n",
      "111:\tlearn: 0.6806766\ttotal: 11m 45s\tremaining: 9m 14s\n",
      "112:\tlearn: 0.6805397\ttotal: 11m 51s\tremaining: 9m 8s\n",
      "113:\tlearn: 0.6804060\ttotal: 11m 57s\tremaining: 9m 1s\n",
      "114:\tlearn: 0.6803789\ttotal: 12m 3s\tremaining: 8m 54s\n",
      "115:\tlearn: 0.6803440\ttotal: 12m 10s\tremaining: 8m 48s\n",
      "116:\tlearn: 0.6802055\ttotal: 12m 17s\tremaining: 8m 43s\n",
      "117:\tlearn: 0.6800892\ttotal: 12m 27s\tremaining: 8m 39s\n",
      "118:\tlearn: 0.6799685\ttotal: 12m 34s\tremaining: 8m 33s\n",
      "119:\tlearn: 0.6799409\ttotal: 12m 42s\tremaining: 8m 28s\n",
      "120:\tlearn: 0.6798403\ttotal: 12m 49s\tremaining: 8m 22s\n",
      "121:\tlearn: 0.6797707\ttotal: 12m 55s\tremaining: 8m 15s\n",
      "122:\tlearn: 0.6796539\ttotal: 13m 1s\tremaining: 8m 9s\n",
      "123:\tlearn: 0.6795181\ttotal: 13m 7s\tremaining: 8m 2s\n",
      "124:\tlearn: 0.6794720\ttotal: 13m 14s\tremaining: 7m 56s\n",
      "125:\tlearn: 0.6793973\ttotal: 13m 20s\tremaining: 7m 50s\n",
      "126:\tlearn: 0.6793229\ttotal: 13m 26s\tremaining: 7m 43s\n",
      "127:\tlearn: 0.6792962\ttotal: 13m 33s\tremaining: 7m 37s\n",
      "128:\tlearn: 0.6792723\ttotal: 13m 39s\tremaining: 7m 30s\n",
      "129:\tlearn: 0.6791564\ttotal: 13m 45s\tremaining: 7m 24s\n",
      "130:\tlearn: 0.6791242\ttotal: 13m 50s\tremaining: 7m 17s\n",
      "131:\tlearn: 0.6791053\ttotal: 13m 55s\tremaining: 7m 10s\n",
      "132:\tlearn: 0.6790823\ttotal: 14m 1s\tremaining: 7m 3s\n",
      "133:\tlearn: 0.6790504\ttotal: 14m 8s\tremaining: 6m 57s\n",
      "134:\tlearn: 0.6790219\ttotal: 14m 13s\tremaining: 6m 51s\n",
      "135:\tlearn: 0.6789152\ttotal: 14m 19s\tremaining: 6m 44s\n",
      "136:\tlearn: 0.6788740\ttotal: 14m 25s\tremaining: 6m 38s\n",
      "137:\tlearn: 0.6787867\ttotal: 14m 32s\tremaining: 6m 31s\n",
      "138:\tlearn: 0.6787275\ttotal: 14m 37s\tremaining: 6m 25s\n",
      "139:\tlearn: 0.6786190\ttotal: 14m 43s\tremaining: 6m 18s\n",
      "140:\tlearn: 0.6785177\ttotal: 14m 52s\tremaining: 6m 13s\n",
      "141:\tlearn: 0.6784977\ttotal: 14m 58s\tremaining: 6m 6s\n",
      "142:\tlearn: 0.6784701\ttotal: 15m 4s\tremaining: 6m\n",
      "143:\tlearn: 0.6784319\ttotal: 15m 10s\tremaining: 5m 53s\n",
      "144:\tlearn: 0.6783234\ttotal: 15m 15s\tremaining: 5m 47s\n",
      "145:\tlearn: 0.6783039\ttotal: 15m 21s\tremaining: 5m 40s\n",
      "146:\tlearn: 0.6782574\ttotal: 15m 27s\tremaining: 5m 34s\n",
      "147:\tlearn: 0.6781576\ttotal: 15m 33s\tremaining: 5m 27s\n",
      "148:\tlearn: 0.6781231\ttotal: 15m 39s\tremaining: 5m 21s\n",
      "149:\tlearn: 0.6780224\ttotal: 15m 46s\tremaining: 5m 15s\n",
      "150:\tlearn: 0.6779302\ttotal: 15m 53s\tremaining: 5m 9s\n",
      "151:\tlearn: 0.6778397\ttotal: 15m 58s\tremaining: 5m 2s\n",
      "152:\tlearn: 0.6778142\ttotal: 16m 4s\tremaining: 4m 56s\n",
      "153:\tlearn: 0.6777384\ttotal: 16m 9s\tremaining: 4m 49s\n",
      "154:\tlearn: 0.6777143\ttotal: 16m 15s\tremaining: 4m 43s\n",
      "155:\tlearn: 0.6776330\ttotal: 16m 21s\tremaining: 4m 36s\n",
      "156:\tlearn: 0.6775444\ttotal: 16m 26s\tremaining: 4m 30s\n",
      "157:\tlearn: 0.6775081\ttotal: 16m 32s\tremaining: 4m 23s\n",
      "158:\tlearn: 0.6774237\ttotal: 16m 38s\tremaining: 4m 17s\n",
      "159:\tlearn: 0.6773281\ttotal: 16m 44s\tremaining: 4m 11s\n",
      "160:\tlearn: 0.6773077\ttotal: 16m 50s\tremaining: 4m 4s\n",
      "161:\tlearn: 0.6772217\ttotal: 16m 57s\tremaining: 3m 58s\n",
      "162:\tlearn: 0.6771316\ttotal: 17m 2s\tremaining: 3m 52s\n",
      "163:\tlearn: 0.6770864\ttotal: 17m 9s\tremaining: 3m 46s\n",
      "164:\tlearn: 0.6770041\ttotal: 17m 17s\tremaining: 3m 39s\n",
      "165:\tlearn: 0.6769874\ttotal: 17m 23s\tremaining: 3m 33s\n",
      "166:\tlearn: 0.6769576\ttotal: 17m 30s\tremaining: 3m 27s\n",
      "167:\tlearn: 0.6768785\ttotal: 17m 35s\tremaining: 3m 21s\n",
      "168:\tlearn: 0.6768621\ttotal: 17m 41s\tremaining: 3m 14s\n",
      "169:\tlearn: 0.6767833\ttotal: 17m 47s\tremaining: 3m 8s\n",
      "170:\tlearn: 0.6767689\ttotal: 17m 52s\tremaining: 3m 1s\n",
      "171:\tlearn: 0.6767411\ttotal: 17m 59s\tremaining: 2m 55s\n",
      "172:\tlearn: 0.6766570\ttotal: 18m 5s\tremaining: 2m 49s\n",
      "173:\tlearn: 0.6765753\ttotal: 18m 12s\tremaining: 2m 43s\n",
      "174:\tlearn: 0.6765338\ttotal: 18m 18s\tremaining: 2m 36s\n",
      "175:\tlearn: 0.6765144\ttotal: 18m 26s\tremaining: 2m 30s\n",
      "176:\tlearn: 0.6764930\ttotal: 18m 33s\tremaining: 2m 24s\n",
      "177:\tlearn: 0.6764645\ttotal: 18m 39s\tremaining: 2m 18s\n",
      "178:\tlearn: 0.6764457\ttotal: 18m 48s\tremaining: 2m 12s\n",
      "179:\tlearn: 0.6763807\ttotal: 18m 55s\tremaining: 2m 6s\n",
      "180:\tlearn: 0.6762991\ttotal: 19m 1s\tremaining: 1m 59s\n",
      "181:\tlearn: 0.6762584\ttotal: 19m 8s\tremaining: 1m 53s\n",
      "182:\tlearn: 0.6761897\ttotal: 19m 15s\tremaining: 1m 47s\n",
      "183:\tlearn: 0.6761321\ttotal: 19m 21s\tremaining: 1m 41s\n",
      "184:\tlearn: 0.6761158\ttotal: 19m 29s\tremaining: 1m 34s\n",
      "185:\tlearn: 0.6760483\ttotal: 19m 35s\tremaining: 1m 28s\n",
      "186:\tlearn: 0.6759803\ttotal: 19m 41s\tremaining: 1m 22s\n",
      "187:\tlearn: 0.6759541\ttotal: 19m 48s\tremaining: 1m 15s\n",
      "188:\tlearn: 0.6759395\ttotal: 19m 55s\tremaining: 1m 9s\n",
      "189:\tlearn: 0.6758626\ttotal: 20m 1s\tremaining: 1m 3s\n",
      "190:\tlearn: 0.6758424\ttotal: 20m 7s\tremaining: 56.9s\n",
      "191:\tlearn: 0.6758085\ttotal: 20m 13s\tremaining: 50.6s\n",
      "192:\tlearn: 0.6757477\ttotal: 20m 19s\tremaining: 44.2s\n",
      "193:\tlearn: 0.6757156\ttotal: 20m 25s\tremaining: 37.9s\n",
      "194:\tlearn: 0.6757036\ttotal: 20m 32s\tremaining: 31.6s\n",
      "195:\tlearn: 0.6756434\ttotal: 20m 38s\tremaining: 25.3s\n",
      "196:\tlearn: 0.6756112\ttotal: 20m 44s\tremaining: 19s\n",
      "197:\tlearn: 0.6756001\ttotal: 20m 50s\tremaining: 12.6s\n",
      "198:\tlearn: 0.6755317\ttotal: 20m 55s\tremaining: 6.31s\n",
      "199:\tlearn: 0.6754714\ttotal: 21m 2s\tremaining: 0us\n"
     ]
    },
    {
     "data": {
      "text/html": [
       "<style>#sk-container-id-4 {color: black;background-color: white;}#sk-container-id-4 pre{padding: 0;}#sk-container-id-4 div.sk-toggleable {background-color: white;}#sk-container-id-4 label.sk-toggleable__label {cursor: pointer;display: block;width: 100%;margin-bottom: 0;padding: 0.3em;box-sizing: border-box;text-align: center;}#sk-container-id-4 label.sk-toggleable__label-arrow:before {content: \"▸\";float: left;margin-right: 0.25em;color: #696969;}#sk-container-id-4 label.sk-toggleable__label-arrow:hover:before {color: black;}#sk-container-id-4 div.sk-estimator:hover label.sk-toggleable__label-arrow:before {color: black;}#sk-container-id-4 div.sk-toggleable__content {max-height: 0;max-width: 0;overflow: hidden;text-align: left;background-color: #f0f8ff;}#sk-container-id-4 div.sk-toggleable__content pre {margin: 0.2em;color: black;border-radius: 0.25em;background-color: #f0f8ff;}#sk-container-id-4 input.sk-toggleable__control:checked~div.sk-toggleable__content {max-height: 200px;max-width: 100%;overflow: auto;}#sk-container-id-4 input.sk-toggleable__control:checked~label.sk-toggleable__label-arrow:before {content: \"▾\";}#sk-container-id-4 div.sk-estimator input.sk-toggleable__control:checked~label.sk-toggleable__label {background-color: #d4ebff;}#sk-container-id-4 div.sk-label input.sk-toggleable__control:checked~label.sk-toggleable__label {background-color: #d4ebff;}#sk-container-id-4 input.sk-hidden--visually {border: 0;clip: rect(1px 1px 1px 1px);clip: rect(1px, 1px, 1px, 1px);height: 1px;margin: -1px;overflow: hidden;padding: 0;position: absolute;width: 1px;}#sk-container-id-4 div.sk-estimator {font-family: monospace;background-color: #f0f8ff;border: 1px dotted black;border-radius: 0.25em;box-sizing: border-box;margin-bottom: 0.5em;}#sk-container-id-4 div.sk-estimator:hover {background-color: #d4ebff;}#sk-container-id-4 div.sk-parallel-item::after {content: \"\";width: 100%;border-bottom: 1px solid gray;flex-grow: 1;}#sk-container-id-4 div.sk-label:hover label.sk-toggleable__label {background-color: #d4ebff;}#sk-container-id-4 div.sk-serial::before {content: \"\";position: absolute;border-left: 1px solid gray;box-sizing: border-box;top: 0;bottom: 0;left: 50%;z-index: 0;}#sk-container-id-4 div.sk-serial {display: flex;flex-direction: column;align-items: center;background-color: white;padding-right: 0.2em;padding-left: 0.2em;position: relative;}#sk-container-id-4 div.sk-item {position: relative;z-index: 1;}#sk-container-id-4 div.sk-parallel {display: flex;align-items: stretch;justify-content: center;background-color: white;position: relative;}#sk-container-id-4 div.sk-item::before, #sk-container-id-4 div.sk-parallel-item::before {content: \"\";position: absolute;border-left: 1px solid gray;box-sizing: border-box;top: 0;bottom: 0;left: 50%;z-index: -1;}#sk-container-id-4 div.sk-parallel-item {display: flex;flex-direction: column;z-index: 1;position: relative;background-color: white;}#sk-container-id-4 div.sk-parallel-item:first-child::after {align-self: flex-end;width: 50%;}#sk-container-id-4 div.sk-parallel-item:last-child::after {align-self: flex-start;width: 50%;}#sk-container-id-4 div.sk-parallel-item:only-child::after {width: 0;}#sk-container-id-4 div.sk-dashed-wrapped {border: 1px dashed gray;margin: 0 0.4em 0.5em 0.4em;box-sizing: border-box;padding-bottom: 0.4em;background-color: white;}#sk-container-id-4 div.sk-label label {font-family: monospace;font-weight: bold;display: inline-block;line-height: 1.2em;}#sk-container-id-4 div.sk-label-container {text-align: center;}#sk-container-id-4 div.sk-container {/* jupyter's `normalize.less` sets `[hidden] { display: none; }` but bootstrap.min.css set `[hidden] { display: none !important; }` so we also need the `!important` here to be able to override the default hidden behavior on the sphinx rendered scikit-learn.org. See: https://github.com/scikit-learn/scikit-learn/issues/21755 */display: inline-block !important;position: relative;}#sk-container-id-4 div.sk-text-repr-fallback {display: none;}</style><div id=\"sk-container-id-4\" class=\"sk-top-container\"><div class=\"sk-text-repr-fallback\"><pre>Pipeline(steps=[(&#x27;categorical&#x27;,\n",
       "                 ColumnTransformer(remainder=&#x27;passthrough&#x27;,\n",
       "                                   transformers=[(&#x27;onehot&#x27;, OneHotEncoder(),\n",
       "                                                  &#x27;topic&#x27;),\n",
       "                                                 (&#x27;tfidf&#x27;, TfidfVectorizer(),\n",
       "                                                  &#x27;text&#x27;)])),\n",
       "                (&#x27;model&#x27;,\n",
       "                 &lt;catboost.core.CatBoostClassifier object at 0x142fd4eb0&gt;)])</pre><b>In a Jupyter environment, please rerun this cell to show the HTML representation or trust the notebook. <br />On GitHub, the HTML representation is unable to render, please try loading this page with nbviewer.org.</b></div><div class=\"sk-container\" hidden><div class=\"sk-item sk-dashed-wrapped\"><div class=\"sk-label-container\"><div class=\"sk-label sk-toggleable\"><input class=\"sk-toggleable__control sk-hidden--visually\" id=\"sk-estimator-id-30\" type=\"checkbox\" ><label for=\"sk-estimator-id-30\" class=\"sk-toggleable__label sk-toggleable__label-arrow\">Pipeline</label><div class=\"sk-toggleable__content\"><pre>Pipeline(steps=[(&#x27;categorical&#x27;,\n",
       "                 ColumnTransformer(remainder=&#x27;passthrough&#x27;,\n",
       "                                   transformers=[(&#x27;onehot&#x27;, OneHotEncoder(),\n",
       "                                                  &#x27;topic&#x27;),\n",
       "                                                 (&#x27;tfidf&#x27;, TfidfVectorizer(),\n",
       "                                                  &#x27;text&#x27;)])),\n",
       "                (&#x27;model&#x27;,\n",
       "                 &lt;catboost.core.CatBoostClassifier object at 0x142fd4eb0&gt;)])</pre></div></div></div><div class=\"sk-serial\"><div class=\"sk-item sk-dashed-wrapped\"><div class=\"sk-label-container\"><div class=\"sk-label sk-toggleable\"><input class=\"sk-toggleable__control sk-hidden--visually\" id=\"sk-estimator-id-31\" type=\"checkbox\" ><label for=\"sk-estimator-id-31\" class=\"sk-toggleable__label sk-toggleable__label-arrow\">categorical: ColumnTransformer</label><div class=\"sk-toggleable__content\"><pre>ColumnTransformer(remainder=&#x27;passthrough&#x27;,\n",
       "                  transformers=[(&#x27;onehot&#x27;, OneHotEncoder(), &#x27;topic&#x27;),\n",
       "                                (&#x27;tfidf&#x27;, TfidfVectorizer(), &#x27;text&#x27;)])</pre></div></div></div><div class=\"sk-parallel\"><div class=\"sk-parallel-item\"><div class=\"sk-item\"><div class=\"sk-label-container\"><div class=\"sk-label sk-toggleable\"><input class=\"sk-toggleable__control sk-hidden--visually\" id=\"sk-estimator-id-32\" type=\"checkbox\" ><label for=\"sk-estimator-id-32\" class=\"sk-toggleable__label sk-toggleable__label-arrow\">onehot</label><div class=\"sk-toggleable__content\"><pre>topic</pre></div></div></div><div class=\"sk-serial\"><div class=\"sk-item\"><div class=\"sk-estimator sk-toggleable\"><input class=\"sk-toggleable__control sk-hidden--visually\" id=\"sk-estimator-id-33\" type=\"checkbox\" ><label for=\"sk-estimator-id-33\" class=\"sk-toggleable__label sk-toggleable__label-arrow\">OneHotEncoder</label><div class=\"sk-toggleable__content\"><pre>OneHotEncoder()</pre></div></div></div></div></div></div><div class=\"sk-parallel-item\"><div class=\"sk-item\"><div class=\"sk-label-container\"><div class=\"sk-label sk-toggleable\"><input class=\"sk-toggleable__control sk-hidden--visually\" id=\"sk-estimator-id-34\" type=\"checkbox\" ><label for=\"sk-estimator-id-34\" class=\"sk-toggleable__label sk-toggleable__label-arrow\">tfidf</label><div class=\"sk-toggleable__content\"><pre>text</pre></div></div></div><div class=\"sk-serial\"><div class=\"sk-item\"><div class=\"sk-estimator sk-toggleable\"><input class=\"sk-toggleable__control sk-hidden--visually\" id=\"sk-estimator-id-35\" type=\"checkbox\" ><label for=\"sk-estimator-id-35\" class=\"sk-toggleable__label sk-toggleable__label-arrow\">TfidfVectorizer</label><div class=\"sk-toggleable__content\"><pre>TfidfVectorizer()</pre></div></div></div></div></div></div><div class=\"sk-parallel-item\"><div class=\"sk-item\"><div class=\"sk-label-container\"><div class=\"sk-label sk-toggleable\"><input class=\"sk-toggleable__control sk-hidden--visually\" id=\"sk-estimator-id-36\" type=\"checkbox\" ><label for=\"sk-estimator-id-36\" class=\"sk-toggleable__label sk-toggleable__label-arrow\">remainder</label><div class=\"sk-toggleable__content\"><pre>[&#x27;gender&#x27;, &#x27;age&#x27;, &#x27;exp_group&#x27;, &#x27;sng_country&#x27;, &#x27;top_50_cities&#x27;, &#x27;os_iOS&#x27;, &#x27;source_organic&#x27;, &#x27;active&#x27;]</pre></div></div></div><div class=\"sk-serial\"><div class=\"sk-item\"><div class=\"sk-estimator sk-toggleable\"><input class=\"sk-toggleable__control sk-hidden--visually\" id=\"sk-estimator-id-37\" type=\"checkbox\" ><label for=\"sk-estimator-id-37\" class=\"sk-toggleable__label sk-toggleable__label-arrow\">passthrough</label><div class=\"sk-toggleable__content\"><pre>passthrough</pre></div></div></div></div></div></div></div></div><div class=\"sk-item\"><div class=\"sk-estimator sk-toggleable\"><input class=\"sk-toggleable__control sk-hidden--visually\" id=\"sk-estimator-id-38\" type=\"checkbox\" ><label for=\"sk-estimator-id-38\" class=\"sk-toggleable__label sk-toggleable__label-arrow\">CatBoostClassifier</label><div class=\"sk-toggleable__content\"><pre>&lt;catboost.core.CatBoostClassifier object at 0x142fd4eb0&gt;</pre></div></div></div></div></div></div></div>"
      ],
      "text/plain": [
       "Pipeline(steps=[('categorical',\n",
       "                 ColumnTransformer(remainder='passthrough',\n",
       "                                   transformers=[('onehot', OneHotEncoder(),\n",
       "                                                  'topic'),\n",
       "                                                 ('tfidf', TfidfVectorizer(),\n",
       "                                                  'text')])),\n",
       "                ('model',\n",
       "                 <catboost.core.CatBoostClassifier object at 0x142fd4eb0>)])"
      ]
     },
     "execution_count": 61,
     "metadata": {},
     "output_type": "execute_result"
    }
   ],
   "source": [
    "pipe.fit(X,y)"
   ]
  },
  {
   "cell_type": "code",
   "execution_count": 62,
   "metadata": {},
   "outputs": [],
   "source": [
    "preds = pipe.predict(X_test)"
   ]
  },
  {
   "cell_type": "code",
   "execution_count": 63,
   "metadata": {},
   "outputs": [],
   "source": [
    "import pickle"
   ]
  },
  {
   "cell_type": "code",
   "execution_count": 64,
   "metadata": {},
   "outputs": [],
   "source": [
    "with open('model_pipline.pkl', 'wb') as f:\n",
    "    pickle.dump(pipe, f)"
   ]
  },
  {
   "cell_type": "code",
   "execution_count": 65,
   "metadata": {},
   "outputs": [],
   "source": [
    "with open('model_pipline.pkl', 'rb') as f:\n",
    "    model = pickle.load(f)"
   ]
  },
  {
   "cell_type": "code",
   "execution_count": 66,
   "metadata": {},
   "outputs": [
    {
     "data": {
      "text/html": [
       "<style>#sk-container-id-5 {color: black;background-color: white;}#sk-container-id-5 pre{padding: 0;}#sk-container-id-5 div.sk-toggleable {background-color: white;}#sk-container-id-5 label.sk-toggleable__label {cursor: pointer;display: block;width: 100%;margin-bottom: 0;padding: 0.3em;box-sizing: border-box;text-align: center;}#sk-container-id-5 label.sk-toggleable__label-arrow:before {content: \"▸\";float: left;margin-right: 0.25em;color: #696969;}#sk-container-id-5 label.sk-toggleable__label-arrow:hover:before {color: black;}#sk-container-id-5 div.sk-estimator:hover label.sk-toggleable__label-arrow:before {color: black;}#sk-container-id-5 div.sk-toggleable__content {max-height: 0;max-width: 0;overflow: hidden;text-align: left;background-color: #f0f8ff;}#sk-container-id-5 div.sk-toggleable__content pre {margin: 0.2em;color: black;border-radius: 0.25em;background-color: #f0f8ff;}#sk-container-id-5 input.sk-toggleable__control:checked~div.sk-toggleable__content {max-height: 200px;max-width: 100%;overflow: auto;}#sk-container-id-5 input.sk-toggleable__control:checked~label.sk-toggleable__label-arrow:before {content: \"▾\";}#sk-container-id-5 div.sk-estimator input.sk-toggleable__control:checked~label.sk-toggleable__label {background-color: #d4ebff;}#sk-container-id-5 div.sk-label input.sk-toggleable__control:checked~label.sk-toggleable__label {background-color: #d4ebff;}#sk-container-id-5 input.sk-hidden--visually {border: 0;clip: rect(1px 1px 1px 1px);clip: rect(1px, 1px, 1px, 1px);height: 1px;margin: -1px;overflow: hidden;padding: 0;position: absolute;width: 1px;}#sk-container-id-5 div.sk-estimator {font-family: monospace;background-color: #f0f8ff;border: 1px dotted black;border-radius: 0.25em;box-sizing: border-box;margin-bottom: 0.5em;}#sk-container-id-5 div.sk-estimator:hover {background-color: #d4ebff;}#sk-container-id-5 div.sk-parallel-item::after {content: \"\";width: 100%;border-bottom: 1px solid gray;flex-grow: 1;}#sk-container-id-5 div.sk-label:hover label.sk-toggleable__label {background-color: #d4ebff;}#sk-container-id-5 div.sk-serial::before {content: \"\";position: absolute;border-left: 1px solid gray;box-sizing: border-box;top: 0;bottom: 0;left: 50%;z-index: 0;}#sk-container-id-5 div.sk-serial {display: flex;flex-direction: column;align-items: center;background-color: white;padding-right: 0.2em;padding-left: 0.2em;position: relative;}#sk-container-id-5 div.sk-item {position: relative;z-index: 1;}#sk-container-id-5 div.sk-parallel {display: flex;align-items: stretch;justify-content: center;background-color: white;position: relative;}#sk-container-id-5 div.sk-item::before, #sk-container-id-5 div.sk-parallel-item::before {content: \"\";position: absolute;border-left: 1px solid gray;box-sizing: border-box;top: 0;bottom: 0;left: 50%;z-index: -1;}#sk-container-id-5 div.sk-parallel-item {display: flex;flex-direction: column;z-index: 1;position: relative;background-color: white;}#sk-container-id-5 div.sk-parallel-item:first-child::after {align-self: flex-end;width: 50%;}#sk-container-id-5 div.sk-parallel-item:last-child::after {align-self: flex-start;width: 50%;}#sk-container-id-5 div.sk-parallel-item:only-child::after {width: 0;}#sk-container-id-5 div.sk-dashed-wrapped {border: 1px dashed gray;margin: 0 0.4em 0.5em 0.4em;box-sizing: border-box;padding-bottom: 0.4em;background-color: white;}#sk-container-id-5 div.sk-label label {font-family: monospace;font-weight: bold;display: inline-block;line-height: 1.2em;}#sk-container-id-5 div.sk-label-container {text-align: center;}#sk-container-id-5 div.sk-container {/* jupyter's `normalize.less` sets `[hidden] { display: none; }` but bootstrap.min.css set `[hidden] { display: none !important; }` so we also need the `!important` here to be able to override the default hidden behavior on the sphinx rendered scikit-learn.org. See: https://github.com/scikit-learn/scikit-learn/issues/21755 */display: inline-block !important;position: relative;}#sk-container-id-5 div.sk-text-repr-fallback {display: none;}</style><div id=\"sk-container-id-5\" class=\"sk-top-container\"><div class=\"sk-text-repr-fallback\"><pre>Pipeline(steps=[(&#x27;categorical&#x27;,\n",
       "                 ColumnTransformer(remainder=&#x27;passthrough&#x27;,\n",
       "                                   transformers=[(&#x27;onehot&#x27;, OneHotEncoder(),\n",
       "                                                  &#x27;topic&#x27;),\n",
       "                                                 (&#x27;tfidf&#x27;, TfidfVectorizer(),\n",
       "                                                  &#x27;text&#x27;)])),\n",
       "                (&#x27;model&#x27;,\n",
       "                 &lt;catboost.core.CatBoostClassifier object at 0x142f7e610&gt;)])</pre><b>In a Jupyter environment, please rerun this cell to show the HTML representation or trust the notebook. <br />On GitHub, the HTML representation is unable to render, please try loading this page with nbviewer.org.</b></div><div class=\"sk-container\" hidden><div class=\"sk-item sk-dashed-wrapped\"><div class=\"sk-label-container\"><div class=\"sk-label sk-toggleable\"><input class=\"sk-toggleable__control sk-hidden--visually\" id=\"sk-estimator-id-39\" type=\"checkbox\" ><label for=\"sk-estimator-id-39\" class=\"sk-toggleable__label sk-toggleable__label-arrow\">Pipeline</label><div class=\"sk-toggleable__content\"><pre>Pipeline(steps=[(&#x27;categorical&#x27;,\n",
       "                 ColumnTransformer(remainder=&#x27;passthrough&#x27;,\n",
       "                                   transformers=[(&#x27;onehot&#x27;, OneHotEncoder(),\n",
       "                                                  &#x27;topic&#x27;),\n",
       "                                                 (&#x27;tfidf&#x27;, TfidfVectorizer(),\n",
       "                                                  &#x27;text&#x27;)])),\n",
       "                (&#x27;model&#x27;,\n",
       "                 &lt;catboost.core.CatBoostClassifier object at 0x142f7e610&gt;)])</pre></div></div></div><div class=\"sk-serial\"><div class=\"sk-item sk-dashed-wrapped\"><div class=\"sk-label-container\"><div class=\"sk-label sk-toggleable\"><input class=\"sk-toggleable__control sk-hidden--visually\" id=\"sk-estimator-id-40\" type=\"checkbox\" ><label for=\"sk-estimator-id-40\" class=\"sk-toggleable__label sk-toggleable__label-arrow\">categorical: ColumnTransformer</label><div class=\"sk-toggleable__content\"><pre>ColumnTransformer(remainder=&#x27;passthrough&#x27;,\n",
       "                  transformers=[(&#x27;onehot&#x27;, OneHotEncoder(), &#x27;topic&#x27;),\n",
       "                                (&#x27;tfidf&#x27;, TfidfVectorizer(), &#x27;text&#x27;)])</pre></div></div></div><div class=\"sk-parallel\"><div class=\"sk-parallel-item\"><div class=\"sk-item\"><div class=\"sk-label-container\"><div class=\"sk-label sk-toggleable\"><input class=\"sk-toggleable__control sk-hidden--visually\" id=\"sk-estimator-id-41\" type=\"checkbox\" ><label for=\"sk-estimator-id-41\" class=\"sk-toggleable__label sk-toggleable__label-arrow\">onehot</label><div class=\"sk-toggleable__content\"><pre>topic</pre></div></div></div><div class=\"sk-serial\"><div class=\"sk-item\"><div class=\"sk-estimator sk-toggleable\"><input class=\"sk-toggleable__control sk-hidden--visually\" id=\"sk-estimator-id-42\" type=\"checkbox\" ><label for=\"sk-estimator-id-42\" class=\"sk-toggleable__label sk-toggleable__label-arrow\">OneHotEncoder</label><div class=\"sk-toggleable__content\"><pre>OneHotEncoder()</pre></div></div></div></div></div></div><div class=\"sk-parallel-item\"><div class=\"sk-item\"><div class=\"sk-label-container\"><div class=\"sk-label sk-toggleable\"><input class=\"sk-toggleable__control sk-hidden--visually\" id=\"sk-estimator-id-43\" type=\"checkbox\" ><label for=\"sk-estimator-id-43\" class=\"sk-toggleable__label sk-toggleable__label-arrow\">tfidf</label><div class=\"sk-toggleable__content\"><pre>text</pre></div></div></div><div class=\"sk-serial\"><div class=\"sk-item\"><div class=\"sk-estimator sk-toggleable\"><input class=\"sk-toggleable__control sk-hidden--visually\" id=\"sk-estimator-id-44\" type=\"checkbox\" ><label for=\"sk-estimator-id-44\" class=\"sk-toggleable__label sk-toggleable__label-arrow\">TfidfVectorizer</label><div class=\"sk-toggleable__content\"><pre>TfidfVectorizer()</pre></div></div></div></div></div></div><div class=\"sk-parallel-item\"><div class=\"sk-item\"><div class=\"sk-label-container\"><div class=\"sk-label sk-toggleable\"><input class=\"sk-toggleable__control sk-hidden--visually\" id=\"sk-estimator-id-45\" type=\"checkbox\" ><label for=\"sk-estimator-id-45\" class=\"sk-toggleable__label sk-toggleable__label-arrow\">remainder</label><div class=\"sk-toggleable__content\"><pre>[&#x27;gender&#x27;, &#x27;age&#x27;, &#x27;exp_group&#x27;, &#x27;sng_country&#x27;, &#x27;top_50_cities&#x27;, &#x27;os_iOS&#x27;, &#x27;source_organic&#x27;, &#x27;active&#x27;]</pre></div></div></div><div class=\"sk-serial\"><div class=\"sk-item\"><div class=\"sk-estimator sk-toggleable\"><input class=\"sk-toggleable__control sk-hidden--visually\" id=\"sk-estimator-id-46\" type=\"checkbox\" ><label for=\"sk-estimator-id-46\" class=\"sk-toggleable__label sk-toggleable__label-arrow\">passthrough</label><div class=\"sk-toggleable__content\"><pre>passthrough</pre></div></div></div></div></div></div></div></div><div class=\"sk-item\"><div class=\"sk-estimator sk-toggleable\"><input class=\"sk-toggleable__control sk-hidden--visually\" id=\"sk-estimator-id-47\" type=\"checkbox\" ><label for=\"sk-estimator-id-47\" class=\"sk-toggleable__label sk-toggleable__label-arrow\">CatBoostClassifier</label><div class=\"sk-toggleable__content\"><pre>&lt;catboost.core.CatBoostClassifier object at 0x142f7e610&gt;</pre></div></div></div></div></div></div></div>"
      ],
      "text/plain": [
       "Pipeline(steps=[('categorical',\n",
       "                 ColumnTransformer(remainder='passthrough',\n",
       "                                   transformers=[('onehot', OneHotEncoder(),\n",
       "                                                  'topic'),\n",
       "                                                 ('tfidf', TfidfVectorizer(),\n",
       "                                                  'text')])),\n",
       "                ('model',\n",
       "                 <catboost.core.CatBoostClassifier object at 0x142f7e610>)])"
      ]
     },
     "execution_count": 66,
     "metadata": {},
     "output_type": "execute_result"
    }
   ],
   "source": [
    "model"
   ]
  },
  {
   "cell_type": "code",
   "execution_count": 67,
   "metadata": {},
   "outputs": [],
   "source": [
    "from sklearn.metrics import classification_report, accuracy_score"
   ]
  },
  {
   "cell_type": "code",
   "execution_count": 68,
   "metadata": {},
   "outputs": [
    {
     "name": "stdout",
     "output_type": "stream",
     "text": [
      "              precision    recall  f1-score   support\n",
      "\n",
      "           0       0.60      0.48      0.53    106150\n",
      "           1       0.57      0.67      0.61    105755\n",
      "\n",
      "    accuracy                           0.58    211905\n",
      "   macro avg       0.58      0.58      0.57    211905\n",
      "weighted avg       0.58      0.58      0.57    211905\n",
      "\n"
     ]
    }
   ],
   "source": [
    "print(classification_report(y_test,preds))"
   ]
  },
  {
   "cell_type": "code",
   "execution_count": 70,
   "metadata": {},
   "outputs": [
    {
     "name": "stdout",
     "output_type": "stream",
     "text": [
      "0.5786885632712773\n"
     ]
    }
   ],
   "source": [
    "print(accuracy_score(y_test, preds))"
   ]
  }
 ],
 "metadata": {
  "kernelspec": {
   "display_name": "test-CNQ6TiHS-py3.12",
   "language": "python",
   "name": "python3"
  },
  "language_info": {
   "codemirror_mode": {
    "name": "ipython",
    "version": 3
   },
   "file_extension": ".py",
   "mimetype": "text/x-python",
   "name": "python",
   "nbconvert_exporter": "python",
   "pygments_lexer": "ipython3",
   "version": "3.12.7"
  }
 },
 "nbformat": 4,
 "nbformat_minor": 2
}
